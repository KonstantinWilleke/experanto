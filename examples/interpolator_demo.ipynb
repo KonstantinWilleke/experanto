{
 "cells": [
  {
   "cell_type": "code",
   "execution_count": 1,
   "metadata": {},
   "outputs": [],
   "source": [
    "%load_ext autoreload\n",
    "%autoreload 2"
   ]
  },
  {
   "cell_type": "code",
   "execution_count": 2,
   "metadata": {},
   "outputs": [],
   "source": [
    "import sys\n",
    "sys.path.append('..')\n",
    "from experanto.interpolators import SequenceInterpolator\n",
    "\n",
    "import numpy as np\n"
   ]
  },
  {
   "cell_type": "code",
   "execution_count": 3,
   "metadata": {},
   "outputs": [
    {
     "name": "stdout",
     "output_type": "stream",
     "text": [
      "(100001,)\n"
     ]
    }
   ],
   "source": [
    "si = SequenceInterpolator('/Users/fabee/Data/sinzlab-data/dataset0/eye_tracker')"
   ]
  },
  {
   "cell_type": "code",
   "execution_count": 5,
   "metadata": {},
   "outputs": [
    {
     "data": {
      "text/plain": [
       "array([0.05023909, 0.04981446, 0.04978514, ..., 0.05015039, 0.04984689,\n",
       "       0.05011773])"
      ]
     },
     "execution_count": 5,
     "metadata": {},
     "output_type": "execute_result"
    }
   ],
   "source": [
    "np.diff(si.timestamps)"
   ]
  },
  {
   "cell_type": "code",
   "execution_count": 6,
   "metadata": {},
   "outputs": [
    {
     "data": {
      "text/plain": [
       "array([1.6794195e+09, 1.6794195e+09, 1.6794195e+09, 1.6794195e+09,\n",
       "       1.6794195e+09, 1.6794195e+09, 1.6794195e+09, 1.6794195e+09,\n",
       "       1.6794195e+09, 1.6794195e+09])"
      ]
     },
     "execution_count": 6,
     "metadata": {},
     "output_type": "execute_result"
    }
   ],
   "source": [
    "times"
   ]
  },
  {
   "cell_type": "code",
   "execution_count": 23,
   "metadata": {},
   "outputs": [],
   "source": [
    "times = si.timestamps[:10] + np.diff(si.timestamps)[:10] * 0.1\n",
    "signal, valid = si.interpolate(times)\n",
    "\n",
    "# assert np.all(np.abs(si._data[:10] - signal) < 1e-6)"
   ]
  },
  {
   "cell_type": "code",
   "execution_count": 19,
   "metadata": {},
   "outputs": [
    {
     "ename": "AssertionError",
     "evalue": "",
     "output_type": "error",
     "traceback": [
      "\u001b[0;31m---------------------------------------------------------------------------\u001b[0m",
      "\u001b[0;31mAssertionError\u001b[0m                            Traceback (most recent call last)",
      "\u001b[0;32m/var/folders/hm/1cg9rvbn6klcdp9c3gfd2mzm0000gn/T/ipykernel_2494/2261707266.py\u001b[0m in \u001b[0;36m<module>\u001b[0;34m\u001b[0m\n\u001b[1;32m      2\u001b[0m \u001b[0msignal\u001b[0m\u001b[0;34m,\u001b[0m \u001b[0mvalid\u001b[0m \u001b[0;34m=\u001b[0m \u001b[0msi\u001b[0m\u001b[0;34m.\u001b[0m\u001b[0minterpolate\u001b[0m\u001b[0;34m(\u001b[0m\u001b[0mtimes\u001b[0m\u001b[0;34m)\u001b[0m\u001b[0;34m\u001b[0m\u001b[0;34m\u001b[0m\u001b[0m\n\u001b[1;32m      3\u001b[0m \u001b[0;34m\u001b[0m\u001b[0m\n\u001b[0;32m----> 4\u001b[0;31m \u001b[0;32massert\u001b[0m \u001b[0mnp\u001b[0m\u001b[0;34m.\u001b[0m\u001b[0mall\u001b[0m\u001b[0;34m(\u001b[0m\u001b[0mnp\u001b[0m\u001b[0;34m.\u001b[0m\u001b[0mabs\u001b[0m\u001b[0;34m(\u001b[0m\u001b[0msi\u001b[0m\u001b[0;34m.\u001b[0m\u001b[0m_data\u001b[0m\u001b[0;34m[\u001b[0m\u001b[0;34m:\u001b[0m\u001b[0;36m10\u001b[0m\u001b[0;34m]\u001b[0m \u001b[0;34m-\u001b[0m \u001b[0msignal\u001b[0m\u001b[0;34m)\u001b[0m \u001b[0;34m<\u001b[0m \u001b[0;36m1e-6\u001b[0m\u001b[0;34m)\u001b[0m\u001b[0;34m\u001b[0m\u001b[0;34m\u001b[0m\u001b[0m\n\u001b[0m",
      "\u001b[0;31mAssertionError\u001b[0m: "
     ]
    }
   ],
   "source": [
    "# times = si.timestamps[:10] + np.diff(si.timestamps)[:10] * 0.9\n",
    "# signal, valid = si.interpolate(times)\n",
    "\n",
    "# assert np.all(np.abs(si._data[:10] - signal) < 1e-6)\n"
   ]
  },
  {
   "cell_type": "code",
   "execution_count": 25,
   "metadata": {},
   "outputs": [
    {
     "data": {
      "text/plain": [
       "array([[       nan, 0.07219061, 0.42020655],\n",
       "       [0.29248611, 0.56352903, 0.12879458],\n",
       "       [0.51282013, 0.58182862, 0.81029075],\n",
       "       [0.31105545, 0.32086159,        nan],\n",
       "       [0.9534322 , 0.83816156, 0.31449089],\n",
       "       [0.32158147, 0.37847934, 0.64375469],\n",
       "       [0.53659753, 0.42919402, 0.48491717],\n",
       "       [0.71569698, 0.49469154, 0.84768188],\n",
       "       [0.7108907 , 0.26814313, 0.39458303],\n",
       "       [0.31520302, 0.79906747, 0.74750986]])"
      ]
     },
     "execution_count": 25,
     "metadata": {},
     "output_type": "execute_result"
    }
   ],
   "source": [
    "signal "
   ]
  },
  {
   "cell_type": "code",
   "execution_count": 26,
   "metadata": {},
   "outputs": [
    {
     "data": {
      "text/plain": [
       "array([[0.60193101, 0.25632986, 0.60828988],\n",
       "       [       nan, 0.07219061, 0.42020655],\n",
       "       [0.29248611, 0.56352903, 0.12879458],\n",
       "       [0.51282013, 0.58182862, 0.81029075],\n",
       "       [0.31105545, 0.32086159,        nan],\n",
       "       [0.9534322 , 0.83816156, 0.31449089],\n",
       "       [0.32158147, 0.37847934, 0.64375469],\n",
       "       [0.53659753, 0.42919402, 0.48491717],\n",
       "       [0.71569698, 0.49469154, 0.84768188],\n",
       "       [0.7108907 , 0.26814313, 0.39458303]])"
      ]
     },
     "execution_count": 26,
     "metadata": {},
     "output_type": "execute_result"
    }
   ],
   "source": [
    "si._data[:10]"
   ]
  },
  {
   "cell_type": "code",
   "execution_count": null,
   "metadata": {},
   "outputs": [],
   "source": []
  }
 ],
 "metadata": {
  "kernelspec": {
   "display_name": "Python 3",
   "language": "python",
   "name": "python3"
  },
  "language_info": {
   "codemirror_mode": {
    "name": "ipython",
    "version": 3
   },
   "file_extension": ".py",
   "mimetype": "text/x-python",
   "name": "python",
   "nbconvert_exporter": "python",
   "pygments_lexer": "ipython3",
   "version": "3.9.12"
  }
 },
 "nbformat": 4,
 "nbformat_minor": 2
}
