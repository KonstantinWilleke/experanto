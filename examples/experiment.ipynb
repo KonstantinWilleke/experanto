{
 "cells": [
  {
   "cell_type": "code",
   "execution_count": null,
   "id": "f924fc48-7018-449f-a051-3674a1a93877",
   "metadata": {},
   "outputs": [],
   "source": [
    "%load_ext autoreload\n",
    "%autoreload 2\n",
    "\n",
    "import numpy as np\n",
    "import matplotlib.pyplot as plt"
   ]
  },
  {
   "cell_type": "code",
   "execution_count": null,
   "id": "a01edd60-2778-409e-8ac8-cf2765986676",
   "metadata": {},
   "outputs": [],
   "source": [
    "import sys\n",
    "import os\n",
    "\n",
    "p = !pwd\n",
    "p = os.path.dirname(p[0])\n",
    "if p not in sys.path:\n",
    "    sys.path.append(p)\n",
    "\n",
    "from experanto.experiment import Experiment\n",
    "from experanto.interpolators import Interpolator"
   ]
  },
  {
   "cell_type": "code",
   "execution_count": null,
   "id": "09169e4a-d07e-40ae-8b4b-c6bff8048f3e",
   "metadata": {},
   "outputs": [],
   "source": [
    "root_folder = '/Volumes/datasets/funct_foundational_data/mocked_data/dataset0'\n",
    "sampling_rate = 10  # Hz?\n",
    "e = Experiment(root_folder, sampling_rate)"
   ]
  },
  {
   "cell_type": "code",
   "execution_count": null,
   "id": "89b75054-7dbe-42c7-9a87-141e9c5c943f",
   "metadata": {},
   "outputs": [],
   "source": [
    "e._devices"
   ]
  }
 ],
 "metadata": {
  "kernelspec": {
   "display_name": "Python 3 (ipykernel)",
   "language": "python",
   "name": "python3"
  },
  "language_info": {
   "codemirror_mode": {
    "name": "ipython",
    "version": 3
   },
   "file_extension": ".py",
   "mimetype": "text/x-python",
   "name": "python",
   "nbconvert_exporter": "python",
   "pygments_lexer": "ipython3",
   "version": "3.10.4"
  }
 },
 "nbformat": 4,
 "nbformat_minor": 5
}
