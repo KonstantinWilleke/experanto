{
 "cells": [
  {
   "cell_type": "code",
   "execution_count": 2,
   "id": "15ef39fb-1ea6-4b35-ba65-6c6770103025",
   "metadata": {},
   "outputs": [],
   "source": [
    "%load_ext autoreload\n",
    "%autoreload 2\n",
    "\n",
    "import numpy as np\n",
    "import matplotlib.pyplot as plt"
   ]
  },
  {
   "cell_type": "code",
   "execution_count": 5,
   "id": "7aaa77e3-d1aa-42a2-8d9e-b91232b515b4",
   "metadata": {},
   "outputs": [],
   "source": [
    "import sys\n",
    "import os\n",
    "\n",
    "p = !pwd\n",
    "p = os.path.dirname(p[0])\n",
    "if p not in sys.path:\n",
    "    sys.path.append(p)\n",
    "\n",
    "from experanto.interpolators import VideoInterpolator"
   ]
  },
  {
   "cell_type": "code",
   "execution_count": 6,
   "id": "49453f7d-6d26-4209-9650-94592bf5ca8d",
   "metadata": {},
   "outputs": [],
   "source": [
    "data_path = '/Volumes/datasets/funct_foundational_data/mocked_data/dataset0/screen/0001'\n",
    "vid = VideoInterpolator(data_path)"
   ]
  },
  {
   "cell_type": "code",
   "execution_count": 16,
   "id": "e7bf1d79-dcf4-4c97-8320-001bc2f1bbde",
   "metadata": {},
   "outputs": [
    {
     "ename": "ValueError",
     "evalue": "shape mismatch: value array of shape (240,36,64) could not be broadcast to indexing result of shape (2,36,64)",
     "output_type": "error",
     "traceback": [
      "\u001b[0;31m---------------------------------------------------------------------------\u001b[0m",
      "\u001b[0;31mValueError\u001b[0m                                Traceback (most recent call last)",
      "Input \u001b[0;32mIn [16]\u001b[0m, in \u001b[0;36m<cell line: 2>\u001b[0;34m()\u001b[0m\n\u001b[1;32m      1\u001b[0m t \u001b[38;5;241m=\u001b[39m np\u001b[38;5;241m.\u001b[39msort(np\u001b[38;5;241m.\u001b[39mconcatenate((vid\u001b[38;5;241m.\u001b[39mtimestamps[:\u001b[38;5;241m-\u001b[39m\u001b[38;5;241m1\u001b[39m] \u001b[38;5;241m+\u001b[39m \u001b[38;5;241m0.0001\u001b[39m, vid\u001b[38;5;241m.\u001b[39mtimestamps[:\u001b[38;5;241m-\u001b[39m\u001b[38;5;241m1\u001b[39m] \u001b[38;5;241m+\u001b[39m \u001b[38;5;241m0.01\u001b[39m)))\n\u001b[0;32m----> 2\u001b[0m x, _ \u001b[38;5;241m=\u001b[39m \u001b[43mvid\u001b[49m\u001b[38;5;241;43m.\u001b[39;49m\u001b[43minterpolate\u001b[49m\u001b[43m(\u001b[49m\u001b[43mt\u001b[49m\u001b[43m)\u001b[49m\n",
      "File \u001b[0;32m~/Documents/Work/Projects/foundation_model/experanto/experanto/interpolators.py:102\u001b[0m, in \u001b[0;36mVideoInterpolator.interpolate\u001b[0;34m(self, times)\u001b[0m\n\u001b[1;32m    100\u001b[0m     video \u001b[38;5;241m=\u001b[39m np\u001b[38;5;241m.\u001b[39mload(\u001b[38;5;28mself\u001b[39m\u001b[38;5;241m.\u001b[39m_video_files[u_idx])\n\u001b[1;32m    101\u001b[0m     idx_for_this_vid \u001b[38;5;241m=\u001b[39m np\u001b[38;5;241m.\u001b[39mwhere(idx \u001b[38;5;241m==\u001b[39m u_idx)\n\u001b[0;32m--> 102\u001b[0m     vids[idx_for_this_vid] \u001b[38;5;241m=\u001b[39m np\u001b[38;5;241m.\u001b[39mrepeat(video, \u001b[38;5;28mlen\u001b[39m(idx_for_this_vid), axis\u001b[38;5;241m=\u001b[39m\u001b[38;5;241m0\u001b[39m)\n\u001b[1;32m    104\u001b[0m \u001b[38;5;28;01mreturn\u001b[39;00m vids, np\u001b[38;5;241m.\u001b[39mones(\u001b[38;5;28mlen\u001b[39m(times), dtype\u001b[38;5;241m=\u001b[39m\u001b[38;5;28mbool\u001b[39m)\n",
      "\u001b[0;31mValueError\u001b[0m: shape mismatch: value array of shape (240,36,64) could not be broadcast to indexing result of shape (2,36,64)"
     ]
    }
   ],
   "source": [
    "t = np.sort(np.concatenate((vid.timestamps[:-1] + 0.0001, vid.timestamps[:-1] + 0.01)))\n",
    "x, _ = vid.interpolate(t)"
   ]
  },
  {
   "cell_type": "code",
   "execution_count": null,
   "id": "f222a6fb-5315-4316-8b8e-2db14fabff4f",
   "metadata": {},
   "outputs": [],
   "source": [
    "plt.imshow(x[2])"
   ]
  },
  {
   "cell_type": "code",
   "execution_count": null,
   "id": "6738427d-bfcf-429a-9890-1f4891fb663f",
   "metadata": {},
   "outputs": [],
   "source": [
    "tmp = np.load(img._image_files[1])\n",
    "plt.imshow(tmp[0])"
   ]
  },
  {
   "cell_type": "code",
   "execution_count": null,
   "id": "78f7f99b-81c7-4c9e-9159-0d7613446518",
   "metadata": {},
   "outputs": [],
   "source": []
  }
 ],
 "metadata": {
  "kernelspec": {
   "display_name": "Python 3 (ipykernel)",
   "language": "python",
   "name": "python3"
  },
  "language_info": {
   "codemirror_mode": {
    "name": "ipython",
    "version": 3
   },
   "file_extension": ".py",
   "mimetype": "text/x-python",
   "name": "python",
   "nbconvert_exporter": "python",
   "pygments_lexer": "ipython3",
   "version": "3.10.4"
  }
 },
 "nbformat": 4,
 "nbformat_minor": 5
}
