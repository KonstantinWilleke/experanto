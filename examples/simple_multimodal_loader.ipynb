{
 "cells": [
  {
   "cell_type": "code",
   "execution_count": 1,
   "id": "a1ca02bd-1119-4e2e-99eb-05a36d4a5b6e",
   "metadata": {},
   "outputs": [],
   "source": [
    "%matplotlib inline\n",
    "%load_ext autoreload\n",
    "%autoreload 2\n",
    "\n",
    "import os\n",
    "import numpy as np\n",
    "import matplotlib.pyplot as plt\n",
    "import torch\n",
    "from torch.utils.data import DataLoader\n",
    "from tqdm import tqdm\n",
    "\n",
    "from experanto.data import Mouse2pChunkedDataset, Mouse2pStaticImageDataset"
   ]
  },
  {
   "cell_type": "code",
   "execution_count": 2,
   "id": "c396a3e0-d8ea-41db-a02b-69ec25a81dd6",
   "metadata": {},
   "outputs": [],
   "source": [
    "root_folder = \"../data/dynamic29228-2-10-Video-sensorium23_sanitycheck_times_fixed/\"\n",
    "sampling_rate = 8  # Hz\n",
    "chunk_size = 16 # samples per block, i.e. context length in samples per neuron\n",
    "dataset = Mouse2pChunkedDataset(root_folder=root_folder, chunk_size=chunk_size, sampling_rate=sampling_rate)"
   ]
  },
  {
   "cell_type": "code",
   "execution_count": 3,
   "id": "ae418864-d45f-493f-848c-cae3c77d6394",
   "metadata": {},
   "outputs": [],
   "source": [
    "datapoint = dataset[0]"
   ]
  },
  {
   "cell_type": "code",
   "execution_count": 4,
   "id": "4f1beb4a-613b-46d7-969f-75794946926a",
   "metadata": {},
   "outputs": [
    {
     "name": "stdout",
     "output_type": "stream",
     "text": [
      "responses (16, 7928)\n",
      "treadmill (16, 1)\n",
      "eye_tracker (16, 3)\n",
      "screen (16, 1, 36, 64)\n",
      "timestamps (16, 7928)\n"
     ]
    }
   ],
   "source": [
    "for k, v in datapoint.items():\n",
    "    print(k, v.shape)"
   ]
  },
  {
   "cell_type": "code",
   "execution_count": 17,
   "id": "41ff3848-2938-4c8a-9318-ffb0d8fb2088",
   "metadata": {
    "scrolled": true
   },
   "outputs": [
    {
     "data": {
      "text/plain": [
       "<matplotlib.colorbar.Colorbar at 0x7fb9ccd03df0>"
      ]
     },
     "execution_count": 17,
     "metadata": {},
     "output_type": "execute_result"
    },
    {
     "data": {
      "image/png": "[encoded data removed]",
      "text/plain": [
       "<Figure size 500x500 with 2 Axes>"
      ]
     },
     "metadata": {},
     "output_type": "display_data"
    }
   ],
   "source": [
    "fig, axs = plt.subplots(1,1, figsize=(5,5))\n",
    "plt.imshow(datapoint[\"timestamps\"][:,np.arange(0,8000,300)])\n",
    "plt.xlabel(\"some Neurons\")\n",
    "plt.ylabel(\"Timestamps\")\n",
    "plt.colorbar()"
   ]
  },
  {
   "cell_type": "markdown",
   "id": "34db8f9f-a91e-41b4-b8d6-144efec8506c",
   "metadata": {},
   "source": [
    "# Get Dataloader"
   ]
  },
  {
   "cell_type": "code",
   "execution_count": 40,
   "id": "20246fe9-5412-4451-9889-02485efabff0",
   "metadata": {},
   "outputs": [],
   "source": [
    "# The interpolation of the data isn't terribly fast, so I'd recommend to set num workers to >= 4\n",
    "dataloader = DataLoader(dataset, \n",
    "                        batch_size=32, \n",
    "                        shuffle=True, \n",
    "                        num_workers=16, \n",
    "                        persistent_workers=True,\n",
    "                        prefetch_factor=4)"
   ]
  },
  {
   "cell_type": "code",
   "execution_count": 43,
   "id": "b8a6b579-6839-4144-acc6-5ee7dee0242a",
   "metadata": {},
   "outputs": [
    {
     "name": "stderr",
     "output_type": "stream",
     "text": [
      "100% 114/114 [00:02<00:00, 48.71it/s]\n"
     ]
    }
   ],
   "source": [
    "for b in tqdm(dataloader):\n",
    "    gpu_tensor = b[\"screen\"].cuda()"
   ]
  },
  {
   "cell_type": "code",
   "execution_count": 46,
   "id": "6d52cc58-4308-4b85-a9db-890a361f029b",
   "metadata": {},
   "outputs": [
    {
     "data": {
      "text/plain": [
       "torch.Size([30, 16, 1, 36, 64])"
      ]
     },
     "execution_count": 46,
     "metadata": {},
     "output_type": "execute_result"
    }
   ],
   "source": [
    "gpu_tensor.shape"
   ]
  },
  {
   "cell_type": "markdown",
   "id": "3b7666c0-2010-4f36-a0c3-954dc89152cd",
   "metadata": {},
   "source": [
    "#### dataloader speed comparison with num_workers=0"
   ]
  },
  {
   "cell_type": "code",
   "execution_count": 44,
   "id": "c9646a36-e2a1-43fb-9857-08b9cebe5eb8",
   "metadata": {},
   "outputs": [],
   "source": [
    "# The interpolation of the data isn't terribly fast, so I'd recommend to set num workers to >= 4\n",
    "slow_dataloader = DataLoader(dataset, \n",
    "                               batch_size=32, \n",
    "                               shuffle=True, \n",
    "                               num_workers=0, \n",
    "                       )"
   ]
  },
  {
   "cell_type": "code",
   "execution_count": 45,
   "id": "f34a2d86-cd7e-438e-b1c5-d520c95c0f54",
   "metadata": {},
   "outputs": [
    {
     "name": "stderr",
     "output_type": "stream",
     "text": [
      "100% 114/114 [00:13<00:00,  8.43it/s]\n"
     ]
    }
   ],
   "source": [
    "for b in tqdm(slow_dataloader):\n",
    "    gpu_tensor = b[\"screen\"].cuda()"
   ]
  }
 ],
 "metadata": {
  "kernelspec": {
   "display_name": "Python 3 (ipykernel)",
   "language": "python",
   "name": "python3"
  },
  "language_info": {
   "codemirror_mode": {
    "name": "ipython",
    "version": 3
   },
   "file_extension": ".py",
   "mimetype": "text/x-python",
   "name": "python",
   "nbconvert_exporter": "python",
   "pygments_lexer": "ipython3",
   "version": "3.10.12"
  }
 },
 "nbformat": 4,
 "nbformat_minor": 5
}
