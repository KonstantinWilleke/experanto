{
    "cells": [
        {
            "cell_type": "code",
            "execution_count": 1,
            "metadata": {},
            "outputs": [],
            "source": [
                "%matplotlib inline\n",
                "%load_ext autoreload\n",
                "%autoreload 2\n",
                "\n",
                "import numpy as np\n",
                "import matplotlib.pyplot as plt\n",
                "import torch",
            ],
        },
        {
            "cell_type": "code",
            "execution_count": 2,
            "metadata": {},
            "outputs": [],
            "source": [
                "import sys\n",
                "import os\n",
                "\n",
                "p = !pwd\n",
                "p = os.path.dirname(p[0])\n",
                "if p not in sys.path:\n",
                "    sys.path.append(p)\n",
                "\n",
                "from experanto.data import Mouse2pChunkedDataset",
            ],
        },
        {
            "cell_type": "code",
            "execution_count": 3,
            "metadata": {},
            "outputs": [
                {
                    "name": "stdout",
                    "output_type": "stream",
                    "text": [
                        "Parsing eye_tracker data... done\n",
                        "Parsing treadmill data... done\n",
                        "Parsing screen data... done\n",
                        "Parsing responses data... done\n",
                    ],
                }
            ],
            "source": [
                "root_folder = '/notebooks/data_export/konti_pr2/nexport_v2/dynamic29228-2-10-Video-konsti_wip05'\n",
                "sampling_rate = 10  # Hz?\n",
                "# root_folder = '/home/nibecker/datasets/mocked_data/dataset_alex'\n",
                "# sampling_rate = 0.05  # Hz?\n",
                "chunk_size = 6\n",
                "dataset = Mouse2pChunkedDataset(root_folder, sampling_rate, chunk_size)",
            ],
        },
        {
            "cell_type": "code",
            "execution_count": 4,
            "metadata": {},
            "outputs": [
                {
                    "data": {"text/plain": ["80"]},
                    "execution_count": 4,
                    "metadata": {},
                    "output_type": "execute_result",
                }
            ],
            "source": ["len(dataset)"],
        },
        {
            "cell_type": "code",
            "execution_count": 5,
            "metadata": {},
            "outputs": [
                {
                    "data": {
                        "text/plain": [
                            "['eye_tracker', 'treadmill', 'screen', 'responses']"
                        ]
                    },
                    "execution_count": 5,
                    "metadata": {},
                    "output_type": "execute_result",
                }
            ],
            "source": ["dataset.device_names"],
        },
        {
            "cell_type": "code",
            "execution_count": 8,
            "metadata": {},
            "outputs": [
                {
                    "data": {
                        "text/plain": ["((6, 3), (6, 1), (6, 36, 64), (6, 7928))"]
                    },
                    "execution_count": 8,
                    "metadata": {},
                    "output_type": "execute_result",
                }
            ],
            "source": [
                "eye, vel, stim, res = dataset[0]\n",
                "\n",
                "eye.shape, vel.shape, stim.shape, res.shape\n",
            ],
        },
        {
            "cell_type": "code",
            "execution_count": 9,
            "metadata": {},
            "outputs": [
                {
                    "data": {
                        "text/plain": ["<matplotlib.image.AxesImage at 0x7fcd47125610>"]
                    },
                    "execution_count": 9,
                    "metadata": {},
                    "output_type": "execute_result",
                },
                {
                    "data": {
                        "image/png": "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\n",
                        "text/plain": ["<Figure size 432x288 with 1 Axes>"],
                    },
                    "metadata": {"needs_background": "light"},
                    "output_type": "display_data",
                },
            ],
            "source": ["plt.imshow(stim[-1])"],
        },
        {
            "cell_type": "code",
            "execution_count": 10,
            "metadata": {},
            "outputs": [],
            "source": [
                "from torch.utils.data import DataLoader\n",
                "dataloader = DataLoader(dataset, batch_size=8, shuffle=True)",
            ],
        },
        {
            "cell_type": "code",
            "execution_count": 11,
            "metadata": {},
            "outputs": [
                {
                    "data": {"text/plain": ["torch.Size([8, 6, 3])"]},
                    "execution_count": 11,
                    "metadata": {},
                    "output_type": "execute_result",
                }
            ],
            "source": [
                "minibatch = next(iter(dataloader))\n",
                "len(minibatch)\n",
                "minibatch[0].shape",
            ],
        },
        {
            "cell_type": "code",
            "execution_count": 12,
            "metadata": {},
            "outputs": [
                {
                    "name": "stdout",
                    "output_type": "stream",
                    "text": [
                        "eye_tracker: torch.Size([8, 6, 3])\n",
                        "treadmill: torch.Size([8, 6, 1])\n",
                        "screen: torch.Size([8, 6, 36, 64])\n",
                        "responses: torch.Size([8, 6, 7928])\n",
                    ],
                }
            ],
            "source": [
                "for d, v in zip(dataset.device_names, minibatch):\n",
                '    print("{}: {}".format(d, v.shape))',
            ],
        },
        {
            "cell_type": "code",
            "execution_count": null,
            "metadata": {},
            "outputs": [],
            "source": [],
        },
    ],
    "metadata": {
        "kernelspec": {
            "display_name": "Python 3",
            "language": "python",
            "name": "python3",
        },
        "language_info": {
            "codemirror_mode": {"name": "ipython", "version": 3},
            "file_extension": ".py",
            "mimetype": "text/x-python",
            "name": "python",
            "nbconvert_exporter": "python",
            "pygments_lexer": "ipython3",
            "version": "3.8.0",
        },
    },
    "nbformat": 4,
    "nbformat_minor": 5,
}
