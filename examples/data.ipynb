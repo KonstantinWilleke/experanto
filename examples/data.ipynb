{
 "cells": [
  {
   "cell_type": "code",
   "execution_count": null,
   "id": "0a12c378-bbfb-4e7c-a6d4-ec183f03312c",
   "metadata": {},
   "outputs": [],
   "source": [
    "%matplotlib inline\n",
    "%load_ext autoreload\n",
    "%autoreload 2\n",
    "\n",
    "import numpy as np\n",
    "import matplotlib.pyplot as plt\n",
    "import torch"
   ]
  },
  {
   "cell_type": "code",
   "execution_count": null,
   "id": "3f0c9b3c-a59b-4085-8b30-907608471dae",
   "metadata": {},
   "outputs": [],
   "source": [
    "import sys\n",
    "import os\n",
    "\n",
    "p = !pwd\n",
    "p = os.path.dirname(p[0])\n",
    "if p not in sys.path:\n",
    "    sys.path.append(p)\n",
    "\n",
    "from experanto.data import Mouse2pChunkedDataset"
   ]
  },
  {
   "cell_type": "code",
   "execution_count": null,
   "id": "c4b0a0e2-2c11-484e-964e-fe5415417f9e",
   "metadata": {},
   "outputs": [],
   "source": [
    "root_folder = '/home/nibecker/datasets/dynamic29228-2-10-Video-konsti_wip05'\n",
    "sampling_rate = 10  # Hz?\n",
    "chunk_size = 20\n",
    "dataset = Mouse2pChunkedDataset(root_folder, sampling_rate, chunk_size)"
   ]
  },
  {
   "cell_type": "code",
   "execution_count": null,
   "id": "2459346c",
   "metadata": {},
   "outputs": [],
   "source": [
    "#root_folder = '/notebooks/data_export/konti_pr2/nexport_v2/dynamic29228-2-10-Video-konsti_wip05'\n",
    "# '/home/nibecker/datasets/dynamic29139-4-6-Video-fixed'\n",
    "\n",
    "root_folder = '/notebooks/data_export/simport_clone/nexport_v2/notebooks/dynamic29228-2-10-Video-'\n",
    "sampling_rate = 10  # Hz?\n",
    "# root_folder = '/home/nibecker/datasets/mocked_data/dataset_alex'\n",
    "# sampling_rate = 0.05  # Hz?\n",
    "chunk_size = 6\n",
    "dataset = Mouse2pChunkedDataset(root_folder, sampling_rate, chunk_size)"
   ]
  },
  {
   "cell_type": "code",
   "execution_count": null,
   "id": "db09356f-b536-40b7-afc8-653e2201e9a3",
   "metadata": {},
   "outputs": [],
   "source": [
    "dataset.device_names"
   ]
  },
  {
   "cell_type": "code",
   "execution_count": null,
   "id": "0bee46f3-a46d-4913-a796-3c81e3fc1d30",
   "metadata": {},
   "outputs": [],
   "source": [
    "res, scr, tr, eye = dataset[0]\n",
    "res.shape, scr.shape, tr.shape, eye.shape\n"
   ]
  },
  {
   "cell_type": "code",
   "execution_count": null,
   "id": "168cc158-fe83-45f1-9fbe-67178c44166d",
   "metadata": {},
   "outputs": [],
   "source": [
    "plt.imshow(scr[-1])"
   ]
  },
  {
   "cell_type": "code",
   "execution_count": null,
   "id": "e67f6ce6-002e-4578-b4d5-d012e673f371",
   "metadata": {},
   "outputs": [],
   "source": [
    "from torch.utils.data import DataLoader\n",
    "dataloader = DataLoader(dataset, batch_size=8, shuffle=True)"
   ]
  },
  {
   "cell_type": "code",
   "execution_count": null,
   "id": "3ce900af-e377-4b01-aee3-38df29c3fb70",
   "metadata": {},
   "outputs": [],
   "source": [
    "minibatch = next(iter(dataloader))\n",
    "len(minibatch)\n",
    "minibatch[0].shape"
   ]
  },
  {
   "cell_type": "code",
   "execution_count": null,
   "id": "cf0ee29b-9ebd-424c-bdeb-9fbcb4873622",
   "metadata": {},
   "outputs": [],
   "source": [
    "for d, v in zip(dataset.device_names, minibatch):\n",
    "    print(\"{}: {}\".format(d, v.shape))"
   ]
  },
  {
   "cell_type": "code",
   "execution_count": null,
   "id": "62300e27-ca66-4d4c-9b11-2451eb13be5f",
   "metadata": {},
   "outputs": [],
   "source": []
  }
 ],
 "metadata": {
  "kernelspec": {
   "display_name": "Python 3",
   "language": "python",
   "name": "python3"
  },
  "language_info": {
   "codemirror_mode": {
    "name": "ipython",
    "version": 3
   },
   "file_extension": ".py",
   "mimetype": "text/x-python",
   "name": "python",
   "nbconvert_exporter": "python",
   "pygments_lexer": "ipython3"
  }
 },
 "nbformat": 4,
 "nbformat_minor": 5
}
