{
 "cells": [
  {
   "cell_type": "code",
   "execution_count": null,
   "id": "0a12c378-bbfb-4e7c-a6d4-ec183f03312c",
   "metadata": {},
   "outputs": [],
   "source": [
    "%matplotlib inline\n",
    "%load_ext autoreload\n",
    "%autoreload 2\n",
    "\n",
    "import numpy as np\n",
    "import matplotlib.pyplot as plt\n",
    "import torch"
   ]
  },
  {
   "cell_type": "code",
   "execution_count": null,
   "id": "3f0c9b3c-a59b-4085-8b30-907608471dae",
   "metadata": {},
   "outputs": [],
   "source": [
    "import sys\n",
    "import os\n",
    "\n",
    "p = !pwd\n",
    "p = os.path.dirname(p[0])\n",
    "if p not in sys.path:\n",
    "    sys.path.append(p)\n",
    "\n",
    "from experanto.data import Mouse2pChunkedDataset"
   ]
  },
  {
   "cell_type": "code",
   "execution_count": null,
   "id": "c4b0a0e2-2c11-484e-964e-fe5415417f9e",
   "metadata": {},
   "outputs": [],
   "source": [
    "root_folder = '/home/nibecker/datasets/dynamic29228-2-10-Video-konsti_wip05'\n",
    "sampling_rate = 10  # Hz?\n",
    "chunk_size = 20\n",
    "dataset = Mouse2pChunkedDataset(root_folder, sampling_rate, chunk_size)"
   ]
  },
  {
   "cell_type": "code",
   "execution_count": null,
   "id": "cb7ccd60-5bc7-4c7b-b1f7-f70d40baa938",
   "metadata": {},
   "outputs": [],
   "source": [
    "len(dataset)"
   ]
  },
  {
   "cell_type": "code",
   "execution_count": null,
   "id": "db09356f-b536-40b7-afc8-653e2201e9a3",
   "metadata": {},
   "outputs": [],
   "source": [
    "dataset.device_names"
   ]
  },
  {
   "cell_type": "code",
   "execution_count": null,
   "id": "0bee46f3-a46d-4913-a796-3c81e3fc1d30",
   "metadata": {},
   "outputs": [],
   "source": [
    "res, scr, tr, eye = dataset[0]\n",
    "res.shape, scr.shape, tr.shape, eye.shape\n"
   ]
  },
  {
   "cell_type": "code",
   "execution_count": null,
   "id": "c8fa6d49-7344-4cd9-b309-c3a1bffdd986",
   "metadata": {},
   "outputs": [],
   "source": [
    "data = dataset[0]\n",
    "data.screen.shape"
   ]
  },
  {
   "cell_type": "code",
   "execution_count": null,
   "id": "168cc158-fe83-45f1-9fbe-67178c44166d",
   "metadata": {},
   "outputs": [],
   "source": [
    "plt.imshow(scr[-1])"
   ]
  },
  {
   "cell_type": "code",
   "execution_count": null,
   "id": "e67f6ce6-002e-4578-b4d5-d012e673f371",
   "metadata": {},
   "outputs": [],
   "source": [
    "from torch.utils.data import DataLoader\n",
    "dataloader = DataLoader(dataset, batch_size=8, shuffle=True)"
   ]
  },
  {
   "cell_type": "code",
   "execution_count": null,
   "id": "3ce900af-e377-4b01-aee3-38df29c3fb70",
   "metadata": {},
   "outputs": [],
   "source": [
    "minibatch = next(iter(dataloader))\n",
    "len(minibatch)\n",
    "minibatch[0].shape"
   ]
  },
  {
   "cell_type": "code",
   "execution_count": null,
   "id": "cf0ee29b-9ebd-424c-bdeb-9fbcb4873622",
   "metadata": {},
   "outputs": [],
   "source": [
    "for d, v in zip(dataset.device_names, minibatch):\n",
    "    print(\"{}: {}\".format(d, v.shape))"
   ]
  },
  {
   "cell_type": "markdown",
   "id": "a17feec7-6e71-4f26-8f5c-d6294cfdf74c",
   "metadata": {},
   "source": [
    "# Static image dataset"
   ]
  },
  {
   "cell_type": "code",
   "execution_count": null,
   "id": "874e0928-a72d-44c0-944b-16874b0c9524",
   "metadata": {},
   "outputs": [],
   "source": [
    "from experanto.data import Mouse2pStaticImageDataset"
   ]
  },
  {
   "cell_type": "code",
   "execution_count": null,
   "id": "62300e27-ca66-4d4c-9b11-2451eb13be5f",
   "metadata": {},
   "outputs": [],
   "source": [
    "offset = 100\n",
    "train_dataset = Mouse2pStaticImageDataset(root_folder, tier=\"train\", offset=offset)\n",
    "len(train_dataset)"
   ]
  },
  {
   "cell_type": "code",
   "execution_count": null,
   "id": "4cc2be32-1aac-4d2d-91b2-65128a74a6fb",
   "metadata": {},
   "outputs": [],
   "source": [
    "val_dataset = Mouse2pStaticImageDataset(root_folder, tier=\"validation\", offset=offset)\n",
    "len(val_dataset)"
   ]
  },
  {
   "cell_type": "code",
   "execution_count": null,
   "id": "f62bab07-1b7e-4d9f-b954-a7b1fd85071f",
   "metadata": {},
   "outputs": [],
   "source": [
    "train_dataloader = DataLoader(train_dataset, batch_size=8, shuffle=True)"
   ]
  },
  {
   "cell_type": "code",
   "execution_count": null,
   "id": "01e0eff3-517f-4997-843b-b48a81ed3d7f",
   "metadata": {},
   "outputs": [],
   "source": [
    "minibatch = next(iter(train_dataloader))\n",
    "len(minibatch)"
   ]
  },
  {
   "cell_type": "code",
   "execution_count": null,
   "id": "f3d4ade1-adb1-4070-b200-d67b4272fa04",
   "metadata": {},
   "outputs": [],
   "source": [
    "minibatch.responses.shape, minibatch.screen.shape, minibatch.eye_tracker.shape"
   ]
  },
  {
   "cell_type": "code",
   "execution_count": null,
   "id": "239ab84f-4af7-4d9d-88e6-26dad6e65d07",
   "metadata": {},
   "outputs": [],
   "source": []
  }
 ],
 "metadata": {
  "kernelspec": {
   "display_name": "Python 3",
   "language": "python",
   "name": "python3"
  },
  "language_info": {
   "codemirror_mode": {
    "name": "ipython",
    "version": 3
   },
   "file_extension": ".py",
   "mimetype": "text/x-python",
   "name": "python",
   "nbconvert_exporter": "python",
   "pygments_lexer": "ipython3",
   "version": "3.11.8"
  }
 },
 "nbformat": 4,
 "nbformat_minor": 5
}
